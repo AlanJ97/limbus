{
 "cells": [
  {
   "cell_type": "code",
   "execution_count": 1,
   "metadata": {},
   "outputs": [],
   "source": [
    "import pandas as pd\n",
    "from tokenizers import SimpleTokenizer\n",
    "from sentiment_analyzer import SimpleSentimentAnalyzer\n",
    "import matplotlib.pyplot as plt"
   ]
  },
  {
   "cell_type": "code",
   "execution_count": 2,
   "metadata": {},
   "outputs": [],
   "source": [
    "df = pd.read_csv('./resources/sample_data/reddit-comments-2015-08.csv')"
   ]
  },
  {
   "cell_type": "code",
   "execution_count": 10,
   "metadata": {},
   "outputs": [
    {
     "data": {
      "text/html": [
       "<div>\n",
       "<style scoped>\n",
       "    .dataframe tbody tr th:only-of-type {\n",
       "        vertical-align: middle;\n",
       "    }\n",
       "\n",
       "    .dataframe tbody tr th {\n",
       "        vertical-align: top;\n",
       "    }\n",
       "\n",
       "    .dataframe thead th {\n",
       "        text-align: right;\n",
       "    }\n",
       "</style>\n",
       "<table border=\"1\" class=\"dataframe\">\n",
       "  <thead>\n",
       "    <tr style=\"text-align: right;\">\n",
       "      <th></th>\n",
       "      <th>body</th>\n",
       "      <th>tokens</th>\n",
       "      <th>sent_score</th>\n",
       "    </tr>\n",
       "  </thead>\n",
       "  <tbody>\n",
       "    <tr>\n",
       "      <th>0</th>\n",
       "      <td>I joined a new league this year and they have ...</td>\n",
       "      <td>[joined, a, new, league, year, different, scor...</td>\n",
       "      <td>-0.032787</td>\n",
       "    </tr>\n",
       "    <tr>\n",
       "      <th>1</th>\n",
       "      <td>In your scenario, a person could just not run ...</td>\n",
       "      <td>[scenario, a, person, just, not, run, mandator...</td>\n",
       "      <td>0.012658</td>\n",
       "    </tr>\n",
       "    <tr>\n",
       "      <th>2</th>\n",
       "      <td>They don't get paid for how much time you spen...</td>\n",
       "      <td>[dont, get, paid, much, time, spend, building,...</td>\n",
       "      <td>-0.074074</td>\n",
       "    </tr>\n",
       "    <tr>\n",
       "      <th>3</th>\n",
       "      <td>I dunno, back before the August update in an A...</td>\n",
       "      <td>[dunno, back, august, update, a, lobby, tower,...</td>\n",
       "      <td>0.051724</td>\n",
       "    </tr>\n",
       "    <tr>\n",
       "      <th>4</th>\n",
       "      <td>No, but Toriyama sometimes would draw himself ...</td>\n",
       "      <td>[no, toriyama, sometimes, draw, a, little, rob...</td>\n",
       "      <td>-0.047619</td>\n",
       "    </tr>\n",
       "  </tbody>\n",
       "</table>\n",
       "</div>"
      ],
      "text/plain": [
       "                                                body  \\\n",
       "0  I joined a new league this year and they have ...   \n",
       "1  In your scenario, a person could just not run ...   \n",
       "2  They don't get paid for how much time you spen...   \n",
       "3  I dunno, back before the August update in an A...   \n",
       "4  No, but Toriyama sometimes would draw himself ...   \n",
       "\n",
       "                                              tokens  sent_score  \n",
       "0  [joined, a, new, league, year, different, scor...   -0.032787  \n",
       "1  [scenario, a, person, just, not, run, mandator...    0.012658  \n",
       "2  [dont, get, paid, much, time, spend, building,...   -0.074074  \n",
       "3  [dunno, back, august, update, a, lobby, tower,...    0.051724  \n",
       "4  [no, toriyama, sometimes, draw, a, little, rob...   -0.047619  "
      ]
     },
     "execution_count": 10,
     "metadata": {},
     "output_type": "execute_result"
    }
   ],
   "source": [
    "df.head()"
   ]
  },
  {
   "cell_type": "code",
   "execution_count": 11,
   "metadata": {},
   "outputs": [
    {
     "name": "stdout",
     "output_type": "stream",
     "text": [
      "<class 'pandas.core.frame.DataFrame'>\n",
      "RangeIndex: 15000 entries, 0 to 14999\n",
      "Data columns (total 3 columns):\n",
      "body          15000 non-null object\n",
      "tokens        15000 non-null object\n",
      "sent_score    15000 non-null float64\n",
      "dtypes: float64(1), object(2)\n",
      "memory usage: 351.6+ KB\n"
     ]
    }
   ],
   "source": [
    "df.info()"
   ]
  },
  {
   "cell_type": "code",
   "execution_count": 9,
   "metadata": {},
   "outputs": [],
   "source": [
    "tokenizer = SimpleTokenizer()\n",
    "sa = SimpleSentimentAnalyzer()\n",
    "\n",
    "score_sentiment = lambda x: sa.score(x)\n",
    "tokenize = lambda x: tokenizer.tokenize(x)"
   ]
  },
  {
   "cell_type": "code",
   "execution_count": 5,
   "metadata": {},
   "outputs": [],
   "source": [
    "df['tokens'] = df['body'].apply(tokenize)"
   ]
  },
  {
   "cell_type": "code",
   "execution_count": 6,
   "metadata": {},
   "outputs": [
    {
     "data": {
      "text/html": [
       "<div>\n",
       "<style scoped>\n",
       "    .dataframe tbody tr th:only-of-type {\n",
       "        vertical-align: middle;\n",
       "    }\n",
       "\n",
       "    .dataframe tbody tr th {\n",
       "        vertical-align: top;\n",
       "    }\n",
       "\n",
       "    .dataframe thead th {\n",
       "        text-align: right;\n",
       "    }\n",
       "</style>\n",
       "<table border=\"1\" class=\"dataframe\">\n",
       "  <thead>\n",
       "    <tr style=\"text-align: right;\">\n",
       "      <th></th>\n",
       "      <th>body</th>\n",
       "      <th>tokens</th>\n",
       "    </tr>\n",
       "  </thead>\n",
       "  <tbody>\n",
       "    <tr>\n",
       "      <th>0</th>\n",
       "      <td>I joined a new league this year and they have ...</td>\n",
       "      <td>[joined, a, new, league, year, different, scor...</td>\n",
       "    </tr>\n",
       "    <tr>\n",
       "      <th>1</th>\n",
       "      <td>In your scenario, a person could just not run ...</td>\n",
       "      <td>[scenario, a, person, just, not, run, mandator...</td>\n",
       "    </tr>\n",
       "    <tr>\n",
       "      <th>2</th>\n",
       "      <td>They don't get paid for how much time you spen...</td>\n",
       "      <td>[dont, get, paid, much, time, spend, building,...</td>\n",
       "    </tr>\n",
       "    <tr>\n",
       "      <th>3</th>\n",
       "      <td>I dunno, back before the August update in an A...</td>\n",
       "      <td>[dunno, back, august, update, a, lobby, tower,...</td>\n",
       "    </tr>\n",
       "    <tr>\n",
       "      <th>4</th>\n",
       "      <td>No, but Toriyama sometimes would draw himself ...</td>\n",
       "      <td>[no, toriyama, sometimes, draw, a, little, rob...</td>\n",
       "    </tr>\n",
       "  </tbody>\n",
       "</table>\n",
       "</div>"
      ],
      "text/plain": [
       "                                                body  \\\n",
       "0  I joined a new league this year and they have ...   \n",
       "1  In your scenario, a person could just not run ...   \n",
       "2  They don't get paid for how much time you spen...   \n",
       "3  I dunno, back before the August update in an A...   \n",
       "4  No, but Toriyama sometimes would draw himself ...   \n",
       "\n",
       "                                              tokens  \n",
       "0  [joined, a, new, league, year, different, scor...  \n",
       "1  [scenario, a, person, just, not, run, mandator...  \n",
       "2  [dont, get, paid, much, time, spend, building,...  \n",
       "3  [dunno, back, august, update, a, lobby, tower,...  \n",
       "4  [no, toriyama, sometimes, draw, a, little, rob...  "
      ]
     },
     "execution_count": 6,
     "metadata": {},
     "output_type": "execute_result"
    }
   ],
   "source": [
    "df.head()"
   ]
  },
  {
   "cell_type": "code",
   "execution_count": 7,
   "metadata": {},
   "outputs": [],
   "source": []
  },
  {
   "cell_type": "code",
   "execution_count": 8,
   "metadata": {},
   "outputs": [],
   "source": [
    "df['sent_score'] = df['tokens'].apply(lambda x: sa.score(x))"
   ]
  },
  {
   "cell_type": "code",
   "execution_count": null,
   "metadata": {},
   "outputs": [],
   "source": [
    "df['sent_score'].sum()"
   ]
  },
  {
   "cell_type": "code",
   "execution_count": null,
   "metadata": {},
   "outputs": [],
   "source": [
    "df['sent_score'].mean()"
   ]
  },
  {
   "cell_type": "code",
   "execution_count": null,
   "metadata": {},
   "outputs": [],
   "source": [
    "df['sent_score'].median()"
   ]
  },
  {
   "cell_type": "code",
   "execution_count": null,
   "metadata": {},
   "outputs": [],
   "source": [
    "df.head()"
   ]
  },
  {
   "cell_type": "code",
   "execution_count": null,
   "metadata": {},
   "outputs": [],
   "source": [
    "df['sent_score'].hist(bins=50)"
   ]
  },
  {
   "cell_type": "code",
   "execution_count": null,
   "metadata": {},
   "outputs": [],
   "source": [
    "def get_wordlist(path):\n",
    "    with open(path) as f:\n",
    "        words = []\n",
    "        for line in f:\n",
    "            words.append(line.strip())\n",
    "        return words"
   ]
  },
  {
   "cell_type": "code",
   "execution_count": 93,
   "metadata": {},
   "outputs": [],
   "source": [
    "pos_words = get_wordlist('./resources/positive_words')\n",
    "neg_words = get_wordlist('./resources/negative_words')\n",
    "stop_words = get_wordlist('./resources/stopwords')\n",
    "negation_words = get_wordlist('./resources/negation_words')"
   ]
  },
  {
   "cell_type": "code",
   "execution_count": 90,
   "metadata": {},
   "outputs": [
    {
     "name": "stdout",
     "output_type": "stream",
     "text": [
      "Positive Word Length: 2032\n",
      "Negative Word Length: 4770\n",
      "Stop Word Length: 172\n"
     ]
    }
   ],
   "source": [
    "print('Positive Word Length: {}'.format(len(set(pos_words))))\n",
    "print('Negative Word Length: {}'.format(len(set(neg_words))))\n",
    "print('Stop Word Length: {}'.format(len(set(stop_words))))"
   ]
  },
  {
   "cell_type": "code",
   "execution_count": 94,
   "metadata": {},
   "outputs": [],
   "source": [
    "pos_and_neg = set(pos_words) & set(neg_words)\n",
    "stop_and_neg = set(stop_words) & set(neg_words)\n",
    "pos_and_stop = set(pos_words) & set(stop_words)\n",
    "negation_and_stop = set(negation_words) & set(stop_words)"
   ]
  },
  {
   "cell_type": "code",
   "execution_count": 95,
   "metadata": {},
   "outputs": [
    {
     "data": {
      "text/plain": [
       "{'nor', 'not'}"
      ]
     },
     "execution_count": 95,
     "metadata": {},
     "output_type": "execute_result"
    }
   ],
   "source": [
    "negation_and_stop"
   ]
  },
  {
   "cell_type": "code",
   "execution_count": 34,
   "metadata": {},
   "outputs": [],
   "source": [
    "def write_list_to_file(words, path):\n",
    "    with open(path, 'w') as f:\n",
    "        for word in words:\n",
    "            f.write(word + \"\\n\")"
   ]
  },
  {
   "cell_type": "code",
   "execution_count": 39,
   "metadata": {},
   "outputs": [],
   "source": [
    "write_list_to_file(new_pos_words, './resources/new_pos_words')"
   ]
  },
  {
   "cell_type": "code",
   "execution_count": null,
   "metadata": {},
   "outputs": [],
   "source": []
  },
  {
   "cell_type": "code",
   "execution_count": null,
   "metadata": {},
   "outputs": [],
   "source": []
  }
 ],
 "metadata": {
  "kernelspec": {
   "display_name": "Python 3",
   "language": "python",
   "name": "python3"
  },
  "language_info": {
   "codemirror_mode": {
    "name": "ipython",
    "version": 3
   },
   "file_extension": ".py",
   "mimetype": "text/x-python",
   "name": "python",
   "nbconvert_exporter": "python",
   "pygments_lexer": "ipython3",
   "version": "3.6.5"
  }
 },
 "nbformat": 4,
 "nbformat_minor": 2
}
